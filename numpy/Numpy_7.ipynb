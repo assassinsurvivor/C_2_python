{
 "cells": [
  {
   "cell_type": "code",
   "execution_count": 1,
   "metadata": {},
   "outputs": [],
   "source": [
    "import numpy as np"
   ]
  },
  {
   "cell_type": "code",
   "execution_count": 2,
   "metadata": {},
   "outputs": [
    {
     "name": "stdout",
     "output_type": "stream",
     "text": [
      "44\n"
     ]
    }
   ],
   "source": [
    "#dot product\n",
    "\n",
    "a=np.array([2,4,6])\n",
    "b=np.array([1,3,5])\n",
    "print(a.dot(b)) #2*1+4*3+6*5 length of a  projected on b with 1-d matrix it does inner product but matrix mul in 2d"
   ]
  },
  {
   "cell_type": "code",
   "execution_count": 6,
   "metadata": {},
   "outputs": [
    {
     "name": "stdout",
     "output_type": "stream",
     "text": [
      "7.483314773547883 5.916079783099616\n"
     ]
    }
   ],
   "source": [
    "#norm of the vectors i.e the length of the vectors\n",
    "print(np.linalg.norm(a),np.linalg.norm(b))"
   ]
  },
  {
   "cell_type": "code",
   "execution_count": 8,
   "metadata": {},
   "outputs": [
    {
     "name": "stdout",
     "output_type": "stream",
     "text": [
      "[0.16903085 0.50709255 0.84515425]\n"
     ]
    }
   ],
   "source": [
    "#unit vectors\n",
    "\n",
    "print(b/np.linalg.norm(b)) #unit vectors of  b"
   ]
  },
  {
   "cell_type": "code",
   "execution_count": 16,
   "metadata": {},
   "outputs": [],
   "source": [
    "a=np.random.randint(10,100,size=(3,3))"
   ]
  },
  {
   "cell_type": "code",
   "execution_count": 26,
   "metadata": {},
   "outputs": [],
   "source": [
    "#to solve ax=b i.e x=a. i.e x => inv(a)*b we use np.linalg.solve"
   ]
  },
  {
   "cell_type": "code",
   "execution_count": 27,
   "metadata": {},
   "outputs": [
    {
     "data": {
      "text/plain": [
       "array([[ 0.02797959, -0.0160268 , -0.00909701],\n",
       "       [-0.0101122 ,  0.0187281 , -0.00286461],\n",
       "       [-0.01606211,  0.00399456,  0.01989336]])"
      ]
     },
     "execution_count": 27,
     "metadata": {},
     "output_type": "execute_result"
    }
   ],
   "source": [
    "np.linalg.inv(a) #inverse of a matrix"
   ]
  },
  {
   "cell_type": "code",
   "execution_count": 28,
   "metadata": {},
   "outputs": [
    {
     "data": {
      "text/plain": [
       "array([[87, 64, 49],\n",
       "       [56, 93, 39],\n",
       "       [59, 33, 82]])"
      ]
     },
     "execution_count": 28,
     "metadata": {},
     "output_type": "execute_result"
    }
   ],
   "source": [
    "a"
   ]
  },
  {
   "cell_type": "code",
   "execution_count": 29,
   "metadata": {},
   "outputs": [],
   "source": [
    "b=np.random.randint(10,15,size=[3,2])"
   ]
  },
  {
   "cell_type": "code",
   "execution_count": 30,
   "metadata": {},
   "outputs": [
    {
     "data": {
      "text/plain": [
       "array([[0.06510474, 0.08737277],\n",
       "       [0.06465453, 0.04303975],\n",
       "       [0.08567343, 0.05395969]])"
      ]
     },
     "execution_count": 30,
     "metadata": {},
     "output_type": "execute_result"
    }
   ],
   "source": [
    "np.linalg.solve(a,b)"
   ]
  },
  {
   "cell_type": "code",
   "execution_count": 32,
   "metadata": {},
   "outputs": [],
   "source": [
    "a=np.eye(3)"
   ]
  },
  {
   "cell_type": "code",
   "execution_count": 33,
   "metadata": {},
   "outputs": [
    {
     "data": {
      "text/plain": [
       "array([[1., 0., 0.],\n",
       "       [0., 1., 0.],\n",
       "       [0., 0., 1.]])"
      ]
     },
     "execution_count": 33,
     "metadata": {},
     "output_type": "execute_result"
    }
   ],
   "source": [
    "a"
   ]
  },
  {
   "cell_type": "code",
   "execution_count": 34,
   "metadata": {},
   "outputs": [
    {
     "name": "stdout",
     "output_type": "stream",
     "text": [
      "1.0\n"
     ]
    }
   ],
   "source": [
    "#determinent\n",
    "print(np.linalg.det(a))"
   ]
  },
  {
   "cell_type": "code",
   "execution_count": 37,
   "metadata": {},
   "outputs": [
    {
     "data": {
      "text/plain": [
       "array([[0, 1, 2, 3, 4],\n",
       "       [5, 6, 7, 8, 9]])"
      ]
     },
     "execution_count": 37,
     "metadata": {},
     "output_type": "execute_result"
    }
   ],
   "source": [
    "#transpose a matrix\n",
    "a=np.arange(10).reshape(2,5)\n",
    "a"
   ]
  },
  {
   "cell_type": "code",
   "execution_count": 38,
   "metadata": {},
   "outputs": [
    {
     "name": "stdout",
     "output_type": "stream",
     "text": [
      "[[0 5]\n",
      " [1 6]\n",
      " [2 7]\n",
      " [3 8]\n",
      " [4 9]]\n"
     ]
    }
   ],
   "source": [
    "print(a.T)"
   ]
  },
  {
   "cell_type": "code",
   "execution_count": 39,
   "metadata": {},
   "outputs": [],
   "source": [
    "a=np.random.randint(1,15,size=[2,2])\n",
    "b=np.random.randint(1,15,size=[2,2])"
   ]
  },
  {
   "cell_type": "code",
   "execution_count": 40,
   "metadata": {},
   "outputs": [
    {
     "data": {
      "text/plain": [
       "array([[11,  7],\n",
       "       [10,  6]])"
      ]
     },
     "execution_count": 40,
     "metadata": {},
     "output_type": "execute_result"
    }
   ],
   "source": [
    "a"
   ]
  },
  {
   "cell_type": "code",
   "execution_count": 41,
   "metadata": {},
   "outputs": [
    {
     "data": {
      "text/plain": [
       "array([[ 5, 13],\n",
       "       [ 2, 11]])"
      ]
     },
     "execution_count": 41,
     "metadata": {},
     "output_type": "execute_result"
    }
   ],
   "source": [
    "b"
   ]
  },
  {
   "cell_type": "code",
   "execution_count": 58,
   "metadata": {},
   "outputs": [
    {
     "name": "stdout",
     "output_type": "stream",
     "text": [
      "[[ 69 220]\n",
      " [ 62 196]]\n"
     ]
    }
   ],
   "source": [
    "print(np.dot(a,b)) # 11*5+7*2=69,11*13+7*11=220,10*5+6*2=62,10*13+6*11=196 remember now it does matrix mul"
   ]
  },
  {
   "cell_type": "code",
   "execution_count": 60,
   "metadata": {},
   "outputs": [
    {
     "name": "stdout",
     "output_type": "stream",
     "text": [
      "[[55 91]\n",
      " [20 66]]\n"
     ]
    }
   ],
   "source": [
    "print(a*b)#element wise multiplication"
   ]
  },
  {
   "cell_type": "code",
   "execution_count": 61,
   "metadata": {},
   "outputs": [
    {
     "data": {
      "text/plain": [
       "array([[ 69, 220],\n",
       "       [ 62, 196]])"
      ]
     },
     "execution_count": 61,
     "metadata": {},
     "output_type": "execute_result"
    }
   ],
   "source": [
    "np.matmul(a,b)"
   ]
  },
  {
   "cell_type": "code",
   "execution_count": 45,
   "metadata": {},
   "outputs": [],
   "source": [
    "#to make a matrix"
   ]
  },
  {
   "cell_type": "code",
   "execution_count": 53,
   "metadata": {},
   "outputs": [],
   "source": [
    "arr=np.mat(\"1 5 3;4 5 6;7 8 9\")"
   ]
  },
  {
   "cell_type": "code",
   "execution_count": 54,
   "metadata": {},
   "outputs": [
    {
     "name": "stdout",
     "output_type": "stream",
     "text": [
      "[[1 5 3]\n",
      " [4 5 6]\n",
      " [7 8 9]] <class 'numpy.matrixlib.defmatrix.matrix'>\n"
     ]
    }
   ],
   "source": [
    "print(arr,type(arr))"
   ]
  },
  {
   "cell_type": "code",
   "execution_count": 56,
   "metadata": {},
   "outputs": [
    {
     "data": {
      "text/plain": [
       "matrix([[-0.16666667, -1.16666667,  0.83333333],\n",
       "        [ 0.33333333, -0.66666667,  0.33333333],\n",
       "        [-0.16666667,  1.5       , -0.83333333]])"
      ]
     },
     "execution_count": 56,
     "metadata": {},
     "output_type": "execute_result"
    }
   ],
   "source": [
    "arr.I #this inverse will only work with matrix type else use inv"
   ]
  },
  {
   "cell_type": "code",
   "execution_count": 62,
   "metadata": {},
   "outputs": [
    {
     "data": {
      "text/plain": [
       "array([[146,  99],\n",
       "       [128,  86]])"
      ]
     },
     "execution_count": 62,
     "metadata": {},
     "output_type": "execute_result"
    }
   ],
   "source": [
    "np.inner(a,b)"
   ]
  },
  {
   "cell_type": "code",
   "execution_count": 73,
   "metadata": {},
   "outputs": [
    {
     "name": "stdout",
     "output_type": "stream",
     "text": [
      "[[ 3  0  0  0]\n",
      " [ 0  5  0  0]\n",
      " [ 0  0  7  0]\n",
      " [ 0  0  0 11]]\n"
     ]
    }
   ],
   "source": [
    "diag=np.diag([3,5,7,11])#creates diagonal matrix\n",
    "print(diag)"
   ]
  },
  {
   "cell_type": "code",
   "execution_count": 85,
   "metadata": {},
   "outputs": [
    {
     "name": "stdout",
     "output_type": "stream",
     "text": [
      "[ 3.  5.  7. 11.]\n"
     ]
    }
   ],
   "source": [
    "#eigen values\n",
    "\n",
    "print(np.linalg.eigvals(diag))"
   ]
  },
  {
   "cell_type": "code",
   "execution_count": 87,
   "metadata": {},
   "outputs": [
    {
     "name": "stdout",
     "output_type": "stream",
     "text": [
      "(array([ 3.,  5.,  7., 11.]), array([[1., 0., 0., 0.],\n",
      "       [0., 1., 0., 0.],\n",
      "       [0., 0., 1., 0.],\n",
      "       [0., 0., 0., 1.]]))\n"
     ]
    }
   ],
   "source": [
    "print(np.linalg.eig(diag)) #eigen vectors"
   ]
  },
  {
   "cell_type": "code",
   "execution_count": 92,
   "metadata": {},
   "outputs": [
    {
     "data": {
      "text/plain": [
       "array(232)"
      ]
     },
     "execution_count": 92,
     "metadata": {},
     "output_type": "execute_result"
    }
   ],
   "source": [
    "np.tensordot(a,b,axes=2) #inner product 55+91+20+66=232"
   ]
  },
  {
   "cell_type": "code",
   "execution_count": 97,
   "metadata": {},
   "outputs": [
    {
     "data": {
      "text/plain": [
       "array([[ 69, 220],\n",
       "       [ 62, 196]])"
      ]
     },
     "execution_count": 97,
     "metadata": {},
     "output_type": "execute_result"
    }
   ],
   "source": [
    "np.tensordot(a,b,axes=1)# -->matrix multiplication"
   ]
  },
  {
   "cell_type": "code",
   "execution_count": 102,
   "metadata": {},
   "outputs": [
    {
     "data": {
      "text/plain": [
       "array([[[[ 55, 143],\n",
       "         [ 22, 121]],\n",
       "\n",
       "        [[ 35,  91],\n",
       "         [ 14,  77]]],\n",
       "\n",
       "\n",
       "       [[[ 50, 130],\n",
       "         [ 20, 110]],\n",
       "\n",
       "        [[ 30,  78],\n",
       "         [ 12,  66]]]])"
      ]
     },
     "execution_count": 102,
     "metadata": {},
     "output_type": "execute_result"
    }
   ],
   "source": [
    "np.tensordot(a,b,axes=0) # takes one elment from the first matrix and does  scalar multiplication on the other"
   ]
  },
  {
   "cell_type": "code",
   "execution_count": 104,
   "metadata": {},
   "outputs": [
    {
     "data": {
      "text/plain": [
       "array([[1, 5, 1, 4],\n",
       "       [5, 6, 1, 2],\n",
       "       [1, 1, 1, 3]])"
      ]
     },
     "execution_count": 104,
     "metadata": {},
     "output_type": "execute_result"
    }
   ],
   "source": [
    "a=np.random.randint(1,7,size=(3,4))\n",
    "a"
   ]
  },
  {
   "cell_type": "code",
   "execution_count": 111,
   "metadata": {},
   "outputs": [
    {
     "data": {
      "text/plain": [
       "array([[2, 5, 2, 5],\n",
       "       [5, 1, 3, 4],\n",
       "       [3, 1, 2, 3]])"
      ]
     },
     "execution_count": 111,
     "metadata": {},
     "output_type": "execute_result"
    }
   ],
   "source": [
    "b=np.random.randint(1,7,size=(3,4))\n",
    "b"
   ]
  },
  {
   "cell_type": "code",
   "execution_count": 112,
   "metadata": {},
   "outputs": [
    {
     "data": {
      "text/plain": [
       "array(106)"
      ]
     },
     "execution_count": 112,
     "metadata": {},
     "output_type": "execute_result"
    }
   ],
   "source": [
    "np.tensordot(a,b,axes=2)"
   ]
  },
  {
   "cell_type": "code",
   "execution_count": 114,
   "metadata": {},
   "outputs": [
    {
     "data": {
      "text/plain": [
       "array([[[[ 2,  5,  2,  5],\n",
       "         [ 5,  1,  3,  4],\n",
       "         [ 3,  1,  2,  3]],\n",
       "\n",
       "        [[10, 25, 10, 25],\n",
       "         [25,  5, 15, 20],\n",
       "         [15,  5, 10, 15]],\n",
       "\n",
       "        [[ 2,  5,  2,  5],\n",
       "         [ 5,  1,  3,  4],\n",
       "         [ 3,  1,  2,  3]],\n",
       "\n",
       "        [[ 8, 20,  8, 20],\n",
       "         [20,  4, 12, 16],\n",
       "         [12,  4,  8, 12]]],\n",
       "\n",
       "\n",
       "       [[[10, 25, 10, 25],\n",
       "         [25,  5, 15, 20],\n",
       "         [15,  5, 10, 15]],\n",
       "\n",
       "        [[12, 30, 12, 30],\n",
       "         [30,  6, 18, 24],\n",
       "         [18,  6, 12, 18]],\n",
       "\n",
       "        [[ 2,  5,  2,  5],\n",
       "         [ 5,  1,  3,  4],\n",
       "         [ 3,  1,  2,  3]],\n",
       "\n",
       "        [[ 4, 10,  4, 10],\n",
       "         [10,  2,  6,  8],\n",
       "         [ 6,  2,  4,  6]]],\n",
       "\n",
       "\n",
       "       [[[ 2,  5,  2,  5],\n",
       "         [ 5,  1,  3,  4],\n",
       "         [ 3,  1,  2,  3]],\n",
       "\n",
       "        [[ 2,  5,  2,  5],\n",
       "         [ 5,  1,  3,  4],\n",
       "         [ 3,  1,  2,  3]],\n",
       "\n",
       "        [[ 2,  5,  2,  5],\n",
       "         [ 5,  1,  3,  4],\n",
       "         [ 3,  1,  2,  3]],\n",
       "\n",
       "        [[ 6, 15,  6, 15],\n",
       "         [15,  3,  9, 12],\n",
       "         [ 9,  3,  6,  9]]]])"
      ]
     },
     "execution_count": 114,
     "metadata": {},
     "output_type": "execute_result"
    }
   ],
   "source": [
    "np.tensordot(a,b,axes=0)"
   ]
  },
  {
   "cell_type": "code",
   "execution_count": 115,
   "metadata": {},
   "outputs": [
    {
     "data": {
      "text/plain": [
       "array([[21, 33, 63, 42],\n",
       "       [26, 50, 69, 46],\n",
       "       [15, 18, 33, 22]])"
      ]
     },
     "execution_count": 115,
     "metadata": {},
     "output_type": "execute_result"
    }
   ],
   "source": [
    "b=np.random.randint(1,7,size=(4,4))\n",
    "np.tensordot(a,b,axes=1)"
   ]
  },
  {
   "cell_type": "code",
   "execution_count": null,
   "metadata": {},
   "outputs": [],
   "source": []
  }
 ],
 "metadata": {
  "kernelspec": {
   "display_name": "Python 3",
   "language": "python",
   "name": "python3"
  },
  "language_info": {
   "codemirror_mode": {
    "name": "ipython",
    "version": 3
   },
   "file_extension": ".py",
   "mimetype": "text/x-python",
   "name": "python",
   "nbconvert_exporter": "python",
   "pygments_lexer": "ipython3",
   "version": "3.6.0"
  }
 },
 "nbformat": 4,
 "nbformat_minor": 2
}
