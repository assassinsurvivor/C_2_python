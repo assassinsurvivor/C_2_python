{
 "cells": [
  {
   "cell_type": "code",
   "execution_count": 1,
   "metadata": {},
   "outputs": [],
   "source": [
    "import numpy as np"
   ]
  },
  {
   "cell_type": "code",
   "execution_count": null,
   "metadata": {},
   "outputs": [],
   "source": [
    "#save and load numpy objects--> .npy and .npz does that.\n",
    "#If the want to store a single numpy array we can use .npy using np.save else .npz using np.savez\n",
    "\n",
    "'''    \n",
    "if 1 numpy array:\n",
    "    use: .npy & np.save\n",
    "else:\n",
    "    use: .npz and np.savez\n",
    " '''"
   ]
  },
  {
   "cell_type": "code",
   "execution_count": 6,
   "metadata": {},
   "outputs": [
    {
     "name": "stdout",
     "output_type": "stream",
     "text": [
      "[[0.95673336 0.01517588 0.46160209 0.76077652]\n",
      " [0.43910954 0.26405395 0.75754287 0.99118461]\n",
      " [0.46980433 0.41168947 0.57936002 0.85805001]\n",
      " [0.64873152 0.55282675 0.18776832 0.67036773]\n",
      " [0.91727676 0.13106867 0.19075106 0.49419762]]\n"
     ]
    }
   ],
   "source": [
    "arr=np.random.random((5,4))\n",
    "print(arr)"
   ]
  },
  {
   "cell_type": "code",
   "execution_count": 7,
   "metadata": {},
   "outputs": [],
   "source": [
    "np.save(\"only_single_array.npy\",arr)"
   ]
  },
  {
   "cell_type": "code",
   "execution_count": 8,
   "metadata": {},
   "outputs": [
    {
     "name": "stdout",
     "output_type": "stream",
     "text": [
      "[[0.13042913 0.5954991  0.48414924 0.84459528]\n",
      " [0.62234265 0.18517343 0.68387452 0.17726414]\n",
      " [0.25784955 0.47681821 0.11690448 0.93638542]\n",
      " [0.28702102 0.17247108 0.75482399 0.12879011]\n",
      " [0.34087291 0.17075936 0.17124153 0.75993091]\n",
      " [0.40372976 0.00272809 0.12346886 0.20546887]]\n"
     ]
    }
   ],
   "source": [
    "arr_2=np.random.random((6,4))\n",
    "print(arr_2)"
   ]
  },
  {
   "cell_type": "code",
   "execution_count": 9,
   "metadata": {},
   "outputs": [],
   "source": [
    "np.savez(\"multiple_arrays.npz\",arr,arr_2)"
   ]
  },
  {
   "cell_type": "code",
   "execution_count": 10,
   "metadata": {},
   "outputs": [
    {
     "name": "stdout",
     "output_type": "stream",
     "text": [
      "[[0.95673336 0.01517588 0.46160209 0.76077652]\n",
      " [0.43910954 0.26405395 0.75754287 0.99118461]\n",
      " [0.46980433 0.41168947 0.57936002 0.85805001]\n",
      " [0.64873152 0.55282675 0.18776832 0.67036773]\n",
      " [0.91727676 0.13106867 0.19075106 0.49419762]]\n"
     ]
    }
   ],
   "source": [
    "#To load just use np.load\n",
    "\n",
    "only_arr=np.load(\"only_single_array.npy\")\n",
    "print(only_arr)"
   ]
  },
  {
   "cell_type": "code",
   "execution_count": 14,
   "metadata": {},
   "outputs": [
    {
     "name": "stdout",
     "output_type": "stream",
     "text": [
      "['arr_0', 'arr_1']\n"
     ]
    }
   ],
   "source": [
    "arr=np.load(\"multiple_arrays.npz\")# dictionary object\n",
    "\n",
    "print(list(arr.keys()))\n"
   ]
  },
  {
   "cell_type": "code",
   "execution_count": 15,
   "metadata": {},
   "outputs": [
    {
     "name": "stdout",
     "output_type": "stream",
     "text": [
      "[[0.95673336 0.01517588 0.46160209 0.76077652]\n",
      " [0.43910954 0.26405395 0.75754287 0.99118461]\n",
      " [0.46980433 0.41168947 0.57936002 0.85805001]\n",
      " [0.64873152 0.55282675 0.18776832 0.67036773]\n",
      " [0.91727676 0.13106867 0.19075106 0.49419762]]\n",
      "\n",
      "\n",
      "[[0.13042913 0.5954991  0.48414924 0.84459528]\n",
      " [0.62234265 0.18517343 0.68387452 0.17726414]\n",
      " [0.25784955 0.47681821 0.11690448 0.93638542]\n",
      " [0.28702102 0.17247108 0.75482399 0.12879011]\n",
      " [0.34087291 0.17075936 0.17124153 0.75993091]\n",
      " [0.40372976 0.00272809 0.12346886 0.20546887]]\n"
     ]
    }
   ],
   "source": [
    "print(arr['arr_0'])\n",
    "\n",
    "print(\"\\n\")\n",
    "\n",
    "print(arr['arr_1'])"
   ]
  },
  {
   "cell_type": "code",
   "execution_count": 17,
   "metadata": {},
   "outputs": [
    {
     "name": "stdout",
     "output_type": "stream",
     "text": [
      "[[0.7823227  0.84882572 0.05435269 0.18170319 0.14498562]\n",
      " [0.56561357 0.40189983 0.15201194 0.07022896 0.04498175]\n",
      " [0.07999759 0.89046899 0.87202789 0.76046993 0.78860076]]\n",
      "\n",
      "\n",
      "[[0.23271213 0.36397431 0.93424001 0.23075544 0.8985714 ]\n",
      " [0.28270002 0.54175508 0.94103832 0.97952437 0.13895486]]\n"
     ]
    }
   ],
   "source": [
    "# some diff methods to stack arrays\n",
    "\n",
    "\n",
    "arr_1=np.random.random((3,5))\n",
    "arr_2=np.random.random((2,5))\n",
    "\n",
    "print(arr_1)\n",
    "print(\"\\n\")\n",
    "print(arr_2)"
   ]
  },
  {
   "cell_type": "code",
   "execution_count": 18,
   "metadata": {},
   "outputs": [
    {
     "name": "stdout",
     "output_type": "stream",
     "text": [
      "[[0.7823227  0.84882572 0.05435269 0.18170319 0.14498562]\n",
      " [0.56561357 0.40189983 0.15201194 0.07022896 0.04498175]\n",
      " [0.07999759 0.89046899 0.87202789 0.76046993 0.78860076]\n",
      " [0.23271213 0.36397431 0.93424001 0.23075544 0.8985714 ]\n",
      " [0.28270002 0.54175508 0.94103832 0.97952437 0.13895486]]\n"
     ]
    }
   ],
   "source": [
    "#np.concatenate\n",
    "\n",
    "print(np.concatenate((arr_1,arr_2),axis=0))"
   ]
  },
  {
   "cell_type": "code",
   "execution_count": 19,
   "metadata": {},
   "outputs": [
    {
     "name": "stdout",
     "output_type": "stream",
     "text": [
      "[[0.7823227  0.84882572 0.05435269 0.18170319 0.14498562]\n",
      " [0.56561357 0.40189983 0.15201194 0.07022896 0.04498175]\n",
      " [0.07999759 0.89046899 0.87202789 0.76046993 0.78860076]\n",
      " [0.23271213 0.36397431 0.93424001 0.23075544 0.8985714 ]\n",
      " [0.28270002 0.54175508 0.94103832 0.97952437 0.13895486]]\n"
     ]
    }
   ],
   "source": [
    "#np.r_\n",
    "#remember to pass argument in list\n",
    "print(np.r_[arr_1,arr_2])"
   ]
  },
  {
   "cell_type": "code",
   "execution_count": 20,
   "metadata": {},
   "outputs": [],
   "source": [
    "#and there is also our fav hstack and vstack that we covered previously!!"
   ]
  },
  {
   "cell_type": "code",
   "execution_count": null,
   "metadata": {},
   "outputs": [],
   "source": []
  }
 ],
 "metadata": {
  "kernelspec": {
   "display_name": "Python 3",
   "language": "python",
   "name": "python3"
  },
  "language_info": {
   "codemirror_mode": {
    "name": "ipython",
    "version": 3
   },
   "file_extension": ".py",
   "mimetype": "text/x-python",
   "name": "python",
   "nbconvert_exporter": "python",
   "pygments_lexer": "ipython3",
   "version": "3.6.0"
  }
 },
 "nbformat": 4,
 "nbformat_minor": 2
}
