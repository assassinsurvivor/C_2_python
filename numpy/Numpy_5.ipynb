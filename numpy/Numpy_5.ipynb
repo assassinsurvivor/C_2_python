{
 "cells": [
  {
   "cell_type": "code",
   "execution_count": 1,
   "metadata": {},
   "outputs": [],
   "source": [
    "import numpy as np"
   ]
  },
  {
   "cell_type": "code",
   "execution_count": 4,
   "metadata": {},
   "outputs": [],
   "source": [
    "#Sorting\n",
    "\n",
    "arr_1=np.random.randint(10,100,size=[20])"
   ]
  },
  {
   "cell_type": "code",
   "execution_count": 5,
   "metadata": {},
   "outputs": [
    {
     "name": "stdout",
     "output_type": "stream",
     "text": [
      "[94 11 48 17 67 78 11 51 98 44 96 82 68 70 24 49 54 72 88 28]\n"
     ]
    }
   ],
   "source": [
    "print(arr_1)"
   ]
  },
  {
   "cell_type": "code",
   "execution_count": 6,
   "metadata": {},
   "outputs": [
    {
     "name": "stdout",
     "output_type": "stream",
     "text": [
      "[11 11 17 24 28 44 48 49 51 54 67 68 70 72 78 82 88 94 96 98]\n"
     ]
    }
   ],
   "source": [
    "print(np.sort(arr_1))"
   ]
  },
  {
   "cell_type": "code",
   "execution_count": 7,
   "metadata": {},
   "outputs": [],
   "source": [
    "#sorting 2-d \n",
    "\n",
    "arr_2=np.random.randint(10,100,size=[5,5])"
   ]
  },
  {
   "cell_type": "code",
   "execution_count": 8,
   "metadata": {},
   "outputs": [
    {
     "name": "stdout",
     "output_type": "stream",
     "text": [
      "[[77 18 40 44 44]\n",
      " [59 53 44 50 72]\n",
      " [57 13 81 53 54]\n",
      " [97 10 69 44 27]\n",
      " [59 58 79 79 66]]\n"
     ]
    }
   ],
   "source": [
    "print(arr_2)"
   ]
  },
  {
   "cell_type": "code",
   "execution_count": 10,
   "metadata": {},
   "outputs": [
    {
     "name": "stdout",
     "output_type": "stream",
     "text": [
      "[[57 10 40 44 27]\n",
      " [59 13 44 44 44]\n",
      " [59 18 69 50 54]\n",
      " [77 53 79 53 66]\n",
      " [97 58 81 79 72]]\n",
      "\n",
      "\n",
      "[[18 40 44 44 77]\n",
      " [44 50 53 59 72]\n",
      " [13 53 54 57 81]\n",
      " [10 27 44 69 97]\n",
      " [58 59 66 79 79]]\n"
     ]
    }
   ],
   "source": [
    "#sorting along rows\n",
    "print(np.sort(arr_2,axis=0))\n",
    "\n",
    "print(\"\\n\")\n",
    "\n",
    "#sorting along columns\n",
    "print(np.sort(arr_2,axis=1))"
   ]
  },
  {
   "cell_type": "code",
   "execution_count": 12,
   "metadata": {},
   "outputs": [],
   "source": [
    "#if we want order of indices that would make a sorted array we can use np.argsort\n"
   ]
  },
  {
   "cell_type": "code",
   "execution_count": 13,
   "metadata": {},
   "outputs": [],
   "source": [
    "arr_1=np.random.randint(1,25,size=[15])"
   ]
  },
  {
   "cell_type": "code",
   "execution_count": 16,
   "metadata": {},
   "outputs": [
    {
     "name": "stdout",
     "output_type": "stream",
     "text": [
      "[24  9 24 12 12 13  6  2 14  3 22  6 10 21  8]\n",
      "\n",
      "\n",
      "[ 7  9  6 11 14  1 12  3  4  5  8 13 10  0  2]\n"
     ]
    }
   ],
   "source": [
    "print(arr_1)\n",
    "print(\"\\n\")\n",
    "print(np.argsort(arr_1,axis=0)) ##these are the indices which would give sorted array"
   ]
  },
  {
   "cell_type": "code",
   "execution_count": 21,
   "metadata": {},
   "outputs": [
    {
     "name": "stdout",
     "output_type": "stream",
     "text": [
      "[ 2  3  6  6  8  9 10 12 12 13 14 21 22 24 24]\n"
     ]
    }
   ],
   "source": [
    "print(arr_1[[ 7,  9,  6 ,11, 14,  1, 12,  3,  4,  5,  8 ,13 ,10  ,0  ,2]])"
   ]
  },
  {
   "cell_type": "code",
   "execution_count": 26,
   "metadata": {},
   "outputs": [
    {
     "name": "stdout",
     "output_type": "stream",
     "text": [
      "[ 3  7 21  2 11]\n",
      "\n",
      "\n",
      "[3 0 1 4 2]\n",
      "\n",
      "\n",
      "[2 4 1 0 3]\n",
      "\n",
      "\n",
      "The array is ascending order is [ 2  3  7 11 21] \n",
      "\n",
      "\n",
      "The array is descending order is [21 11  7  3  2] \n"
     ]
    }
   ],
   "source": [
    "#to sort in reverse order\n",
    "\n",
    "arr_2=np.random.randint(1,25,size=[5])\n",
    "print(arr_2)\n",
    "print(\"\\n\")\n",
    "res_indx=arr_2.argsort(axis=0)\n",
    "print(res_indx)\n",
    "print(\"\\n\")\n",
    "res_indx_new=res_indx[::-1]\n",
    "print(res_indx_new)\n",
    "print(\"\\n\")\n",
    "print(\"The array is ascending order is {} \".format(arr_2[res_indx]))\n",
    "print(\"\\n\")\n",
    "print(\"The array is descending order is {} \".format(arr_2[res_indx_new]))"
   ]
  },
  {
   "cell_type": "code",
   "execution_count": 27,
   "metadata": {},
   "outputs": [],
   "source": [
    "#numpy.searchsorted -->gives the index position at which a number should be inserted in order to keep the array sorted"
   ]
  },
  {
   "cell_type": "code",
   "execution_count": 49,
   "metadata": {},
   "outputs": [
    {
     "name": "stdout",
     "output_type": "stream",
     "text": [
      "[ 1  4  3 11 20]\n"
     ]
    }
   ],
   "source": [
    "arr_new=np.random.randint(1,25,size=[5])\n",
    "print(arr_new)"
   ]
  },
  {
   "cell_type": "code",
   "execution_count": 50,
   "metadata": {},
   "outputs": [
    {
     "name": "stdout",
     "output_type": "stream",
     "text": [
      "5\n",
      "3\n"
     ]
    }
   ],
   "source": [
    "print(np.searchsorted(arr_new,108,side='left')) \n",
    "print(np.searchsorted(arr_new,11,side='left')) "
   ]
  },
  {
   "cell_type": "code",
   "execution_count": 60,
   "metadata": {},
   "outputs": [],
   "source": [
    "#This is a much faster alternative to np.random.choice\n",
    "\n",
    "arr_1=[2,2,4,4,4,5,6,7]\n",
    "probability=np.random.random(10)\n",
    "probability=probability/probability.sum()"
   ]
  },
  {
   "cell_type": "code",
   "execution_count": 88,
   "metadata": {},
   "outputs": [
    {
     "data": {
      "text/plain": [
       "array([0.14352697, 0.05603694, 0.00273751, 0.15574435, 0.06352141,\n",
       "       0.20626228, 0.09302262, 0.07822929, 0.07527779, 0.12564083])"
      ]
     },
     "execution_count": 88,
     "metadata": {},
     "output_type": "execute_result"
    }
   ],
   "source": [
    "probability"
   ]
  },
  {
   "cell_type": "code",
   "execution_count": 89,
   "metadata": {},
   "outputs": [
    {
     "data": {
      "text/plain": [
       "array([0.14352697, 0.19956391, 0.20230143, 0.35804578, 0.42156718,\n",
       "       0.62782946, 0.72085209, 0.79908137, 0.87435917, 1.        ])"
      ]
     },
     "execution_count": 89,
     "metadata": {},
     "output_type": "execute_result"
    }
   ],
   "source": [
    "#to add upon in the array\n",
    "\n",
    "probability.cumsum()"
   ]
  },
  {
   "cell_type": "code",
   "execution_count": 79,
   "metadata": {},
   "outputs": [
    {
     "data": {
      "text/plain": [
       "4"
      ]
     },
     "execution_count": 79,
     "metadata": {},
     "output_type": "execute_result"
    }
   ],
   "source": [
    "np.random.choice(arr_1,p=[0.1,0.1,0.4,0.4,0.0,0.0,0.0,0.0])"
   ]
  },
  {
   "cell_type": "code",
   "execution_count": 80,
   "metadata": {},
   "outputs": [
    {
     "name": "stdout",
     "output_type": "stream",
     "text": [
      "25.8 µs ± 463 ns per loop (mean ± std. dev. of 7 runs, 10000 loops each)\n"
     ]
    }
   ],
   "source": [
    "%timeit np.random.choice(arr_1,p=[0.1,0.1,0.4,0.4,0.0,0.0,0.0,0.0])"
   ]
  },
  {
   "cell_type": "code",
   "execution_count": 90,
   "metadata": {},
   "outputs": [
    {
     "data": {
      "text/plain": [
       "4"
      ]
     },
     "execution_count": 90,
     "metadata": {},
     "output_type": "execute_result"
    }
   ],
   "source": [
    "arr_1[np.searchsorted(probability.cumsum(),np.random.random())]"
   ]
  },
  {
   "cell_type": "code",
   "execution_count": null,
   "metadata": {},
   "outputs": [],
   "source": []
  },
  {
   "cell_type": "code",
   "execution_count": null,
   "metadata": {},
   "outputs": [],
   "source": []
  }
 ],
 "metadata": {
  "kernelspec": {
   "display_name": "Python 3",
   "language": "python",
   "name": "python3"
  },
  "language_info": {
   "codemirror_mode": {
    "name": "ipython",
    "version": 3
   },
   "file_extension": ".py",
   "mimetype": "text/x-python",
   "name": "python",
   "nbconvert_exporter": "python",
   "pygments_lexer": "ipython3",
   "version": "3.6.0"
  }
 },
 "nbformat": 4,
 "nbformat_minor": 2
}
