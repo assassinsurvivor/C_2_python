{
 "cells": [
  {
   "cell_type": "code",
   "execution_count": 1,
   "metadata": {},
   "outputs": [],
   "source": [
    "import numpy as np"
   ]
  },
  {
   "cell_type": "code",
   "execution_count": 5,
   "metadata": {},
   "outputs": [
    {
     "name": "stdout",
     "output_type": "stream",
     "text": [
      "[0.72954683 0.60571078 0.4599983  0.88923329 0.96489661 0.43225324\n",
      " 0.69170595 0.69074117 0.12703844 0.9356857 ]\n"
     ]
    }
   ],
   "source": [
    "#to get index position of items when conditional expression is true\n",
    "\n",
    "arr=np.random.random(10)\n",
    "print(arr)"
   ]
  },
  {
   "cell_type": "code",
   "execution_count": 6,
   "metadata": {},
   "outputs": [],
   "source": [
    "index_getter=np.where(arr>0.5)"
   ]
  },
  {
   "cell_type": "code",
   "execution_count": 7,
   "metadata": {},
   "outputs": [
    {
     "name": "stdout",
     "output_type": "stream",
     "text": [
      "(array([0, 1, 3, 4, 6, 7, 9], dtype=int64),)\n"
     ]
    }
   ],
   "source": [
    "print(index_getter)"
   ]
  },
  {
   "cell_type": "code",
   "execution_count": 13,
   "metadata": {},
   "outputs": [
    {
     "name": "stdout",
     "output_type": "stream",
     "text": [
      "[0.72954683 0.60571078 0.88923329 0.96489661 0.69170595 0.69074117\n",
      " 0.9356857 ]\n",
      "\n",
      "\n",
      "[0, 1, 3, 4, 6, 7, 9]\n"
     ]
    }
   ],
   "source": [
    "#previously we used to get the items itself\n",
    "#ex:\n",
    "\n",
    "item_getter=arr[arr>0.5]\n",
    "print(item_getter)\n",
    "print(\"\\n\")\n",
    "res=[]\n",
    "for i in list(item_getter):\n",
    "    res.append(list(arr).index(i))\n",
    "print(res)\n",
    "\n",
    "#Very redundant method but wanted to show how it would have worked in backend but this need to be more optimized"
   ]
  },
  {
   "cell_type": "code",
   "execution_count": 17,
   "metadata": {},
   "outputs": [
    {
     "name": "stdout",
     "output_type": "stream",
     "text": [
      "[[0.72954683 0.60571078 0.88923329 0.96489661 0.69170595 0.69074117\n",
      "  0.9356857 ]]\n",
      "\n",
      "\n",
      "[0.72954683 0.60571078 0.88923329 0.96489661 0.69170595 0.69074117\n",
      " 0.9356857 ]\n"
     ]
    }
   ],
   "source": [
    "#from index we can get the values using take method\n",
    "\n",
    "print(arr.take(index_getter))\n",
    "\n",
    "print(\"\\n\")\n",
    "\n",
    "#or just do simple stuff \n",
    "\n",
    "print(arr[index_getter]) #simplicity "
   ]
  },
  {
   "cell_type": "code",
   "execution_count": 19,
   "metadata": {},
   "outputs": [
    {
     "name": "stdout",
     "output_type": "stream",
     "text": [
      "['Prakhar' 'Prakhar' 'T' 'Prakhar' 'Prakhar' 'T' 'Prakhar' 'Prakhar' 'T'\n",
      " 'Prakhar']\n"
     ]
    }
   ],
   "source": [
    "#now what if you want to set a particular value when conditional evaluates to true or false\n",
    "#np.where does this\n",
    "\n",
    "print(np.where(arr>0.5,\"Prakhar\",\"T\"))#Beautiful"
   ]
  },
  {
   "cell_type": "code",
   "execution_count": 23,
   "metadata": {},
   "outputs": [
    {
     "name": "stdout",
     "output_type": "stream",
     "text": [
      "[10 20 30 40 50 60 70 80 90]\n"
     ]
    }
   ],
   "source": [
    "#to find index of man and min value in array use ->np.argmax\n",
    "\n",
    "new_arr=np.arange(10,100,10)\n",
    "print(new_arr)"
   ]
  },
  {
   "cell_type": "code",
   "execution_count": 24,
   "metadata": {},
   "outputs": [
    {
     "name": "stdout",
     "output_type": "stream",
     "text": [
      "8\n"
     ]
    }
   ],
   "source": [
    "print(np.argmax(new_arr))"
   ]
  },
  {
   "cell_type": "code",
   "execution_count": 34,
   "metadata": {},
   "outputs": [
    {
     "name": "stdout",
     "output_type": "stream",
     "text": [
      "[[45 28 91 56 67]\n",
      " [46 89 82 49 77]\n",
      " [46 69 83 15 74]]\n"
     ]
    }
   ],
   "source": [
    "#lets do this in matrix\n",
    "\n",
    "new_arr=np.array([np.random.randint(10,100) for i in range(15)]).reshape(3,5) #complicating stuff\n",
    "print(new_arr)"
   ]
  },
  {
   "cell_type": "code",
   "execution_count": 38,
   "metadata": {},
   "outputs": [
    {
     "name": "stdout",
     "output_type": "stream",
     "text": [
      "[2 1 2]\n",
      "\n",
      "\n",
      "[1 1 0 0 1]\n"
     ]
    }
   ],
   "source": [
    "#lets find across rows,shall we?\n",
    "#Returns the indices of the maximum values along an axis\n",
    "print(np.argmax(new_arr,axis=1))#columns\n",
    "print(\"\\n\")\n",
    "print(np.argmax(new_arr,axis=0))#rows"
   ]
  },
  {
   "cell_type": "code",
   "execution_count": 39,
   "metadata": {},
   "outputs": [],
   "source": [
    "#Import data from a csv file in numpy\n"
   ]
  },
  {
   "cell_type": "code",
   "execution_count": 40,
   "metadata": {},
   "outputs": [],
   "source": [
    "#use either np.loadtxt or np.genfromtxt(better one@!)"
   ]
  },
  {
   "cell_type": "code",
   "execution_count": 41,
   "metadata": {},
   "outputs": [],
   "source": [
    "#To turn off scientific notation \n",
    "np.set_printoptions(suppress=False)"
   ]
  },
  {
   "cell_type": "code",
   "execution_count": 54,
   "metadata": {},
   "outputs": [],
   "source": [
    "#Import the data \n",
    "data=np.genfromtxt(\"https://bit.ly/2LLYxJE\",delimiter=\",\",skip_header=1,filling_values=-999,dtype=float)"
   ]
  },
  {
   "cell_type": "code",
   "execution_count": 55,
   "metadata": {},
   "outputs": [
    {
     "data": {
      "text/plain": [
       "array([[  18.,    8.,  307., ...,   70.,    1., -999.],\n",
       "       [  15.,    8.,  350., ...,   70.,    1., -999.],\n",
       "       [  18.,    8.,  318., ...,   70.,    1., -999.],\n",
       "       ...,\n",
       "       [  32.,    4.,  135., ...,   82.,    1., -999.],\n",
       "       [  28.,    4.,  120., ...,   82.,    1., -999.],\n",
       "       [  31.,    4.,  119., ...,   82.,    1., -999.]])"
      ]
     },
     "execution_count": 55,
     "metadata": {},
     "output_type": "execute_result"
    }
   ],
   "source": [
    "data"
   ]
  },
  {
   "cell_type": "code",
   "execution_count": 56,
   "metadata": {},
   "outputs": [],
   "source": [
    "#to save it to csv\n",
    "np.savetxt(\"out.csv\",data,delimiter=\",\")"
   ]
  },
  {
   "cell_type": "code",
   "execution_count": null,
   "metadata": {},
   "outputs": [],
   "source": []
  }
 ],
 "metadata": {
  "kernelspec": {
   "display_name": "Python 3",
   "language": "python",
   "name": "python3"
  },
  "language_info": {
   "codemirror_mode": {
    "name": "ipython",
    "version": 3
   },
   "file_extension": ".py",
   "mimetype": "text/x-python",
   "name": "python",
   "nbconvert_exporter": "python",
   "pygments_lexer": "ipython3",
   "version": "3.6.0"
  }
 },
 "nbformat": 4,
 "nbformat_minor": 2
}
