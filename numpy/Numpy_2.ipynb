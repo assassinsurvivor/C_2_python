{
 "cells": [
  {
   "cell_type": "code",
   "execution_count": 1,
   "metadata": {},
   "outputs": [],
   "source": [
    "\n",
    "import numpy as np\n",
    "arr_1=np.arange(16).reshape(2,8)\n",
    "arr_2=np.arange(32).reshape(4,8)\n",
    "\n",
    "\n",
    "\n"
   ]
  },
  {
   "cell_type": "code",
   "execution_count": 10,
   "metadata": {},
   "outputs": [
    {
     "name": "stdout",
     "output_type": "stream",
     "text": [
      "[[ 0  1  2  3  4  5  6  7]\n",
      " [ 8  9 10 11 12 13 14 15]]\n",
      "\n",
      "\n",
      "[[ 0  1  2  3  4  5  6  7]\n",
      " [ 8  9 10 11 12 13 14 15]\n",
      " [16 17 18 19 20 21 22 23]\n",
      " [24 25 26 27 28 29 30 31]]\n",
      "\n",
      "\n",
      "[[ 0  1  2  3  4  5  6  7]\n",
      " [ 8  9 10 11 12 13 14 15]\n",
      " [ 0  1  2  3  4  5  6  7]\n",
      " [ 8  9 10 11 12 13 14 15]\n",
      " [16 17 18 19 20 21 22 23]\n",
      " [24 25 26 27 28 29 30 31]]\n",
      "\n",
      "\n",
      "(6, 8)\n",
      "\n",
      "\n",
      "[[ 0  1  2  3  4  5  6  7  0  1  2  3  4  5  6  7]\n",
      " [ 8  9 10 11 12 13 14 15  8  9 10 11 12 13 14 15]]\n",
      "\n",
      "\n",
      "(2, 16)\n"
     ]
    }
   ],
   "source": [
    "#vstack -> vertically stacking arrays \n",
    "print(arr_1)\n",
    "print(\"\\n\")\n",
    "print(arr_2)\n",
    "print(\"\\n\")\n",
    "print(np.vstack((arr_1,arr_2)))\n",
    "print(\"\\n\")\n",
    "print(np.vstack((arr_1,arr_2)).shape)\n",
    "print(\"\\n\")\n",
    "print(np.hstack((arr_1,arr_2[:2,])))\n",
    "print(\"\\n\")\n",
    "print(np.hstack((arr_1,arr_2[:2,])).shape)"
   ]
  },
  {
   "cell_type": "code",
   "execution_count": 13,
   "metadata": {},
   "outputs": [
    {
     "data": {
      "text/plain": [
       "array([0.0657933, 0.2167375, 0.7517481])"
      ]
     },
     "execution_count": 13,
     "metadata": {},
     "output_type": "execute_result"
    }
   ],
   "source": [
    "#to generate random numnbers\n",
    "\n",
    "np.random.random(3) # Hi numpy! please give me  three random numbers"
   ]
  },
  {
   "cell_type": "code",
   "execution_count": 15,
   "metadata": {},
   "outputs": [
    {
     "data": {
      "text/plain": [
       "array([[0.73266369, 0.18934403, 0.90752089, 0.04452556, 0.43979561],\n",
       "       [0.92360644, 0.10610171, 0.23176915, 0.67207403, 0.97952923]])"
      ]
     },
     "execution_count": 15,
     "metadata": {},
     "output_type": "execute_result"
    }
   ],
   "source": [
    "# to generate matrix\n",
    "\n",
    "np.random.random((2,5))"
   ]
  },
  {
   "cell_type": "code",
   "execution_count": 17,
   "metadata": {},
   "outputs": [
    {
     "data": {
      "text/plain": [
       "48"
      ]
     },
     "execution_count": 17,
     "metadata": {},
     "output_type": "execute_result"
    }
   ],
   "source": [
    "#to generate an integer\n",
    "\n",
    "np.random.randint(low=15,high=100,)"
   ]
  },
  {
   "cell_type": "code",
   "execution_count": 23,
   "metadata": {},
   "outputs": [
    {
     "data": {
      "text/plain": [
       "array([[0.7516845 , 0.57788576, 0.65971936],\n",
       "       [0.53276823, 0.82909056, 0.08047597],\n",
       "       [0.8648645 , 0.20171328, 0.1524401 ],\n",
       "       [0.10521582, 0.38204951, 0.35592064],\n",
       "       [0.05441586, 0.7533078 , 0.38484883]])"
      ]
     },
     "execution_count": 23,
     "metadata": {},
     "output_type": "execute_result"
    }
   ],
   "source": [
    "#some other random\n",
    "np.random.rand(5,3)\n",
    "\n"
   ]
  },
  {
   "cell_type": "code",
   "execution_count": 25,
   "metadata": {},
   "outputs": [
    {
     "data": {
      "text/plain": [
       "array([[ 0.06520609,  1.22530097,  1.6174446 ,  1.03242068, -0.55763759],\n",
       "       [-1.50625648, -0.30204897,  0.29441791, -0.62083706, -0.38657149],\n",
       "       [-0.80487228,  1.45881707,  0.72662847, -1.11118562, -0.95200287]])"
      ]
     },
     "execution_count": 25,
     "metadata": {},
     "output_type": "execute_result"
    }
   ],
   "source": [
    "np.random.randn(3,5)#Normal dist"
   ]
  },
  {
   "cell_type": "code",
   "execution_count": 32,
   "metadata": {},
   "outputs": [],
   "source": [
    "arr=np.random.random((6,4))"
   ]
  },
  {
   "cell_type": "code",
   "execution_count": 33,
   "metadata": {},
   "outputs": [
    {
     "data": {
      "text/plain": [
       "array([[0.91389769, 0.02874349, 0.37004405, 0.45265882],\n",
       "       [0.74578483, 0.60293568, 0.55129194, 0.90362628],\n",
       "       [0.27850081, 0.20523371, 0.29995966, 0.6469996 ],\n",
       "       [0.77332249, 0.86784281, 0.13228109, 0.51087582],\n",
       "       [0.83071826, 0.56229467, 0.57719787, 0.70192568],\n",
       "       [0.27648127, 0.35438253, 0.22692741, 0.70640969]])"
      ]
     },
     "execution_count": 33,
     "metadata": {},
     "output_type": "execute_result"
    }
   ],
   "source": [
    "arr"
   ]
  },
  {
   "cell_type": "code",
   "execution_count": 35,
   "metadata": {},
   "outputs": [],
   "source": [
    "#split this array\n",
    "a,b=(np.hsplit(arr,2))"
   ]
  },
  {
   "cell_type": "code",
   "execution_count": 36,
   "metadata": {},
   "outputs": [
    {
     "data": {
      "text/plain": [
       "array([[0.91389769, 0.02874349],\n",
       "       [0.74578483, 0.60293568],\n",
       "       [0.27850081, 0.20523371],\n",
       "       [0.77332249, 0.86784281],\n",
       "       [0.83071826, 0.56229467],\n",
       "       [0.27648127, 0.35438253]])"
      ]
     },
     "execution_count": 36,
     "metadata": {},
     "output_type": "execute_result"
    }
   ],
   "source": [
    "a\n"
   ]
  },
  {
   "cell_type": "code",
   "execution_count": 37,
   "metadata": {},
   "outputs": [
    {
     "data": {
      "text/plain": [
       "array([[0.37004405, 0.45265882],\n",
       "       [0.55129194, 0.90362628],\n",
       "       [0.29995966, 0.6469996 ],\n",
       "       [0.13228109, 0.51087582],\n",
       "       [0.57719787, 0.70192568],\n",
       "       [0.22692741, 0.70640969]])"
      ]
     },
     "execution_count": 37,
     "metadata": {},
     "output_type": "execute_result"
    }
   ],
   "source": [
    "b"
   ]
  },
  {
   "cell_type": "code",
   "execution_count": null,
   "metadata": {},
   "outputs": [],
   "source": []
  }
 ],
 "metadata": {
  "kernelspec": {
   "display_name": "Python 3",
   "language": "python",
   "name": "python3"
  },
  "language_info": {
   "codemirror_mode": {
    "name": "ipython",
    "version": 3
   },
   "file_extension": ".py",
   "mimetype": "text/x-python",
   "name": "python",
   "nbconvert_exporter": "python",
   "pygments_lexer": "ipython3",
   "version": "3.6.0"
  }
 },
 "nbformat": 4,
 "nbformat_minor": 2
}
