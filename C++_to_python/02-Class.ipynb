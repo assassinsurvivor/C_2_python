{
 "cells": [
  {
   "cell_type": "code",
   "execution_count": 1,
   "metadata": {},
   "outputs": [],
   "source": [
    "import functools\n",
    "from IPython.display import display,HTML"
   ]
  },
  {
   "cell_type": "code",
   "execution_count": 2,
   "metadata": {},
   "outputs": [],
   "source": [
    "class DataScience():\n",
    "    \n",
    "    level=10 ##class variable\n",
    "    \n",
    "    def __init__(self,lang,version,lev=None):\n",
    "        self.language=lang\n",
    "        self.version=version\n",
    "        \n",
    "        \n",
    "    @property    \n",
    "    def language_version(self):\n",
    "        return \"User codes in \"+self.language+\" -- version \"+str(self.version)+\" and his rating is \"+str(self.level)\n",
    "    \n",
    "    @property\n",
    "    def skill_need(self):\n",
    "        return self.diff_in_skills(self.level)\n",
    "       \n",
    "    \n",
    "    @classmethod\n",
    "    def change_rating(cls):\n",
    "        cls.level=5 #changing variable named level\n",
    "\n",
    "    @staticmethod\n",
    "    def diff_in_skills(var):\n",
    "        return (10-var)\n",
    "        \n",
    "        \n",
    "        \n",
    "        \n",
    "        "
   ]
  },
  {
   "cell_type": "code",
   "execution_count": 3,
   "metadata": {},
   "outputs": [
    {
     "name": "stdout",
     "output_type": "stream",
     "text": [
      "<class '__main__.DataScience'>\n",
      "\n",
      "\n",
      "User codes in Python -- version 3.7 and his rating is 10\n"
     ]
    }
   ],
   "source": [
    "user=DataScience('Python',3.7)\n",
    "print(user.__class__)\n",
    "print(\"\\n\")\n",
    "print(user.language_version)"
   ]
  },
  {
   "cell_type": "code",
   "execution_count": 4,
   "metadata": {},
   "outputs": [
    {
     "name": "stdout",
     "output_type": "stream",
     "text": [
      "User codes in C++ -- version 4.3 and his rating is 5\n",
      "\n",
      "\n",
      "5\n"
     ]
    }
   ],
   "source": [
    "DataScience.change_rating()\n",
    "new_user=DataScience('C++',4.3)\n",
    "print(new_user.language_version)\n",
    "print(\"\\n\")\n",
    "print(DataScience.level)"
   ]
  },
  {
   "cell_type": "code",
   "execution_count": 5,
   "metadata": {},
   "outputs": [
    {
     "data": {
      "text/plain": [
       "'User codes in C++ -- version 4.3 and his rating is 9'"
      ]
     },
     "execution_count": 5,
     "metadata": {},
     "output_type": "execute_result"
    }
   ],
   "source": [
    "new_user.level=9 #he updgraded his skills :P\n",
    "new_user.language_version"
   ]
  },
  {
   "cell_type": "code",
   "execution_count": 6,
   "metadata": {},
   "outputs": [
    {
     "data": {
      "text/plain": [
       "1"
      ]
     },
     "execution_count": 6,
     "metadata": {},
     "output_type": "execute_result"
    }
   ],
   "source": [
    "new_user.skill_need"
   ]
  },
  {
   "cell_type": "code",
   "execution_count": 7,
   "metadata": {},
   "outputs": [
    {
     "data": {
      "text/html": [
       "<ul>\n",
       "<li><b>Class method can't access instance methods but can access static as well as class methods.</b></li>\n",
       "<li><b>Instance methods can access all.</b></li>\n",
       "<li><b>Static methods can't change class as well as the instance variables.</b></li>\n",
       "</ul>"
      ],
      "text/plain": [
       "<IPython.core.display.HTML object>"
      ]
     },
     "metadata": {},
     "output_type": "display_data"
    }
   ],
   "source": [
    "display(HTML('''<ul>\n",
    "<li><b>Class method can't access instance methods but can access static as well as class methods.</b></li>\n",
    "<li><b>Instance methods can access all.</b></li>\n",
    "<li><b>Static methods can't change class as well as the instance variables.</b></li>\n",
    "</ul>'''))"
   ]
  },
  {
   "cell_type": "code",
   "execution_count": 8,
   "metadata": {},
   "outputs": [
    {
     "data": {
      "text/plain": [
       "{'language': 'Python', 'version': 3.7}"
      ]
     },
     "execution_count": 8,
     "metadata": {},
     "output_type": "execute_result"
    }
   ],
   "source": [
    "user.__dict__"
   ]
  },
  {
   "cell_type": "code",
   "execution_count": 9,
   "metadata": {},
   "outputs": [
    {
     "data": {
      "text/plain": [
       "{'language': 'C++', 'level': 9, 'version': 4.3}"
      ]
     },
     "execution_count": 9,
     "metadata": {},
     "output_type": "execute_result"
    }
   ],
   "source": [
    "new_user.__dict__ #can see new_user has 'level' variable associated with it "
   ]
  },
  {
   "cell_type": "code",
   "execution_count": 10,
   "metadata": {},
   "outputs": [],
   "source": [
    "#polymorphism\n",
    "\n",
    "class SDE(DataScience):\n",
    "    \n",
    "    def __init__(self,lang,version,lev=None,exp=None):\n",
    "        \n",
    "        super().__init__(lang,version,lev)\n",
    "        self.experience=exp\n",
    "    \n",
    "    \n",
    "    def experience_version(self):\n",
    "        \n",
    "        return self.language_version+ (\" with an experience of {} years\".format(self.experience))"
   ]
  },
  {
   "cell_type": "code",
   "execution_count": 11,
   "metadata": {},
   "outputs": [],
   "source": [
    "sde_user=SDE('C++',4.3,exp=1.5)"
   ]
  },
  {
   "cell_type": "code",
   "execution_count": 12,
   "metadata": {},
   "outputs": [
    {
     "data": {
      "text/plain": [
       "'User codes in C++ -- version 4.3 and his rating is 5'"
      ]
     },
     "execution_count": 12,
     "metadata": {},
     "output_type": "execute_result"
    }
   ],
   "source": [
    "sde_user.language_version"
   ]
  },
  {
   "cell_type": "code",
   "execution_count": 13,
   "metadata": {},
   "outputs": [
    {
     "data": {
      "text/plain": [
       "5"
      ]
     },
     "execution_count": 13,
     "metadata": {},
     "output_type": "execute_result"
    }
   ],
   "source": [
    "sde_user.level"
   ]
  },
  {
   "cell_type": "code",
   "execution_count": 14,
   "metadata": {},
   "outputs": [
    {
     "data": {
      "text/plain": [
       "1.5"
      ]
     },
     "execution_count": 14,
     "metadata": {},
     "output_type": "execute_result"
    }
   ],
   "source": [
    "sde_user.experience"
   ]
  },
  {
   "cell_type": "code",
   "execution_count": 15,
   "metadata": {},
   "outputs": [
    {
     "data": {
      "text/plain": [
       "'User codes in C++ -- version 4.3 and his rating is 5 with an experience of 1.5 years'"
      ]
     },
     "execution_count": 15,
     "metadata": {},
     "output_type": "execute_result"
    }
   ],
   "source": [
    "sde_user.experience_version()"
   ]
  },
  {
   "cell_type": "code",
   "execution_count": 16,
   "metadata": {},
   "outputs": [
    {
     "data": {
      "text/plain": [
       "<__main__.SDE at 0x1f95c17db38>"
      ]
     },
     "execution_count": 16,
     "metadata": {},
     "output_type": "execute_result"
    }
   ],
   "source": [
    "sde_user #we can use magic method to print something easier to comprehend"
   ]
  },
  {
   "cell_type": "code",
   "execution_count": 17,
   "metadata": {},
   "outputs": [],
   "source": [
    "#magic methods+polymorphism\n",
    "\n",
    "class SDE(DataScience):\n",
    "    \n",
    "    \n",
    "    \n",
    "    def __init__(self,lang,version,lev=None,exp=None):\n",
    "        \n",
    "        super().__init__(lang,version,lev)\n",
    "        self.experience=exp\n",
    "    \n",
    "    \n",
    "    def experience_version(self):\n",
    "        \n",
    "        return self.language_version+ (\" with an experience of {} years\".format(self.experience))\n",
    "    \n",
    "    \n",
    "    def __repr__(self):\n",
    "        \n",
    "        return \"This is a class for software developers\"\n",
    "    \n",
    "    \n",
    "    def __len__(self):\n",
    "        \n",
    "        return len(self.language)\n",
    "    \n",
    "    def __add__(self,val):\n",
    "        \n",
    "        return val-self.level\n",
    "    \n",
    "    \n"
   ]
  },
  {
   "cell_type": "code",
   "execution_count": 18,
   "metadata": {},
   "outputs": [],
   "source": [
    "sde_user=SDE('C++',4.3,exp=1.5)"
   ]
  },
  {
   "cell_type": "code",
   "execution_count": 19,
   "metadata": {},
   "outputs": [
    {
     "data": {
      "text/plain": [
       "94"
      ]
     },
     "execution_count": 19,
     "metadata": {},
     "output_type": "execute_result"
    }
   ],
   "source": [
    "sde_user+99 #just modified the addition operation"
   ]
  },
  {
   "cell_type": "code",
   "execution_count": 20,
   "metadata": {},
   "outputs": [
    {
     "data": {
      "text/plain": [
       "3"
      ]
     },
     "execution_count": 20,
     "metadata": {},
     "output_type": "execute_result"
    }
   ],
   "source": [
    "len(sde_user)"
   ]
  },
  {
   "cell_type": "code",
   "execution_count": null,
   "metadata": {},
   "outputs": [],
   "source": []
  }
 ],
 "metadata": {
  "kernelspec": {
   "display_name": "Python 3",
   "language": "python",
   "name": "python3"
  },
  "language_info": {
   "codemirror_mode": {
    "name": "ipython",
    "version": 3
   },
   "file_extension": ".py",
   "mimetype": "text/x-python",
   "name": "python",
   "nbconvert_exporter": "python",
   "pygments_lexer": "ipython3",
   "version": "3.6.4"
  },
  "toc": {
   "base_numbering": 1,
   "nav_menu": {},
   "number_sections": true,
   "sideBar": true,
   "skip_h1_title": false,
   "title_cell": "Table of Contents",
   "title_sidebar": "Contents",
   "toc_cell": false,
   "toc_position": {},
   "toc_section_display": true,
   "toc_window_display": false
  }
 },
 "nbformat": 4,
 "nbformat_minor": 2
}
