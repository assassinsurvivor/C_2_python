{
 "cells": [
  {
   "cell_type": "code",
   "execution_count": 2,
   "metadata": {},
   "outputs": [
    {
     "name": "stdout",
     "output_type": "stream",
     "text": [
      "Python\n",
      "('ML', 'DL')\n"
     ]
    }
   ],
   "source": [
    "def lang(name, *args):\n",
    "    print(name)\n",
    "    print(args)\n",
    "        \n",
    "lang('Python', 'ML','DL')"
   ]
  },
  {
   "cell_type": "code",
   "execution_count": 4,
   "metadata": {},
   "outputs": [
    {
     "name": "stdout",
     "output_type": "stream",
     "text": [
      "Python\n",
      "{'secondary': 'ML', 'primary': 'DL', 'legend': 'nlp'}\n"
     ]
    }
   ],
   "source": [
    "def lang(name, **kwargs):\n",
    "    print(name)\n",
    "    print(kwargs)\n",
    "        \n",
    "lang('Python', secondary='ML',primary='DL',legend='nlp')"
   ]
  },
  {
   "cell_type": "markdown",
   "metadata": {},
   "source": [
    "<ul>\n",
    "<li> *args are represented in a tuple</li><hr>\n",
    "<li> **kwargs are represented by dictionary key value pairs</li>\n",
    "</ul>"
   ]
  },
  {
   "cell_type": "code",
   "execution_count": 7,
   "metadata": {},
   "outputs": [
    {
     "name": "stdout",
     "output_type": "stream",
     "text": [
      "secondary ----> ML\n",
      "primary ----> DL\n",
      "legend ----> nlp\n"
     ]
    }
   ],
   "source": [
    "def lang(name, **kwargs):\n",
    "    for i,j in kwargs.items():\n",
    "        print(i,\"---->\",j)\n",
    "        \n",
    "lang('Python', secondary='ML',primary='DL',legend='nlp')"
   ]
  },
  {
   "cell_type": "code",
   "execution_count": 8,
   "metadata": {},
   "outputs": [
    {
     "name": "stdout",
     "output_type": "stream",
     "text": [
      "('Python', 'C++', 'Javascript')\n",
      "\n",
      "secondary ----> ML\n",
      "primary ----> DL\n",
      "legend ----> nlp\n"
     ]
    }
   ],
   "source": [
    "def lang(*args, **kwargs):\n",
    "    print(args)\n",
    "    print()\n",
    "    for i,j in kwargs.items():\n",
    "        print(i,\"---->\",j)\n",
    "        \n",
    "lang('Python','C++','Javascript', secondary='ML',primary='DL',legend='nlp')"
   ]
  },
  {
   "cell_type": "code",
   "execution_count": null,
   "metadata": {},
   "outputs": [],
   "source": []
  }
 ],
 "metadata": {
  "kernelspec": {
   "display_name": "Python 3",
   "language": "python",
   "name": "python3"
  },
  "language_info": {
   "codemirror_mode": {
    "name": "ipython",
    "version": 3
   },
   "file_extension": ".py",
   "mimetype": "text/x-python",
   "name": "python",
   "nbconvert_exporter": "python",
   "pygments_lexer": "ipython3",
   "version": "3.6.4"
  },
  "toc": {
   "base_numbering": 1,
   "nav_menu": {},
   "number_sections": true,
   "sideBar": true,
   "skip_h1_title": false,
   "title_cell": "Table of Contents",
   "title_sidebar": "Contents",
   "toc_cell": false,
   "toc_position": {},
   "toc_section_display": true,
   "toc_window_display": false
  }
 },
 "nbformat": 4,
 "nbformat_minor": 2
}
