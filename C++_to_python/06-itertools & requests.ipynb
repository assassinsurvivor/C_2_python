{
 "cells": [
  {
   "cell_type": "code",
   "execution_count": 4,
   "metadata": {},
   "outputs": [
    {
     "data": {
      "text/plain": [
       "[0, 2, 4, 6, 8, 10, 12, 14, 16, 18, 20, 22, 24, 26, 28]"
      ]
     },
     "execution_count": 4,
     "metadata": {},
     "output_type": "execute_result"
    }
   ],
   "source": [
    "#filter method\n",
    "a=[i for i in range(30)]\n",
    "list(filter(lambda x:x%2==0,a))"
   ]
  },
  {
   "cell_type": "code",
   "execution_count": 5,
   "metadata": {},
   "outputs": [
    {
     "data": {
      "text/plain": [
       "15"
      ]
     },
     "execution_count": 5,
     "metadata": {},
     "output_type": "execute_result"
    }
   ],
   "source": [
    "#reduce method\n",
    "from functools import reduce\n",
    "reduce(lambda x,y:x+y,[1,2,3,4,5])"
   ]
  },
  {
   "cell_type": "code",
   "execution_count": 6,
   "metadata": {},
   "outputs": [
    {
     "data": {
      "text/plain": [
       "[0, 1, 4, 9, 16, 25, 36, 49, 64, 81]"
      ]
     },
     "execution_count": 6,
     "metadata": {},
     "output_type": "execute_result"
    }
   ],
   "source": [
    "#map method\n",
    "list(map(lambda x:x**2,a[:10]))"
   ]
  },
  {
   "cell_type": "code",
   "execution_count": 7,
   "metadata": {},
   "outputs": [
    {
     "name": "stdout",
     "output_type": "stream",
     "text": [
      "25 55\n"
     ]
    }
   ],
   "source": [
    "#some programmers use it ,but it's better to use dict ,why to make it complicated\n",
    "from collections import namedtuple\n",
    "numbers=namedtuple('construct',('first','second'))\n",
    "obj=numbers(25,55)\n",
    "print(obj.first,obj.second)"
   ]
  },
  {
   "cell_type": "code",
   "execution_count": 8,
   "metadata": {},
   "outputs": [
    {
     "name": "stdout",
     "output_type": "stream",
     "text": [
      "[(15, 0), (20, 1), (25, 2), (75, 3), (None, 4), (None, 5), (None, 6), (None, 7)]\n"
     ]
    }
   ],
   "source": [
    "#itertools\n",
    "\n",
    "import itertools\n",
    "arr=[15,20,25,75]\n",
    "\n",
    "print(list(itertools.zip_longest(arr,range(8))))"
   ]
  },
  {
   "cell_type": "code",
   "execution_count": 9,
   "metadata": {},
   "outputs": [
    {
     "name": "stdout",
     "output_type": "stream",
     "text": [
      "[(1, 2), (1, 3), (1, 4), (2, 3), (2, 4), (3, 4)]\n",
      "\n",
      "[(1, 2), (1, 3), (1, 4), (2, 1), (2, 3), (2, 4), (3, 1), (3, 2), (3, 4), (4, 1), (4, 2), (4, 3)]\n"
     ]
    }
   ],
   "source": [
    "arr=[1,2,3,4]\n",
    "print(list(itertools.combinations(arr,2)))\n",
    "print()\n",
    "print(list(itertools.permutations(arr,2)))"
   ]
  },
  {
   "cell_type": "code",
   "execution_count": 10,
   "metadata": {},
   "outputs": [
    {
     "name": "stdout",
     "output_type": "stream",
     "text": [
      "[(0, 0), (0, 1), (1, 0), (1, 1)]\n"
     ]
    }
   ],
   "source": [
    "arr=[0,1]\n",
    "\n",
    "print(list(itertools.product(arr,repeat=2)))"
   ]
  },
  {
   "cell_type": "code",
   "execution_count": 11,
   "metadata": {},
   "outputs": [
    {
     "name": "stdout",
     "output_type": "stream",
     "text": [
      "[(0, 0), (0, 1), (1, 1)]\n"
     ]
    }
   ],
   "source": [
    "print(list(itertools.combinations_with_replacement(arr,2)))"
   ]
  },
  {
   "cell_type": "code",
   "execution_count": 12,
   "metadata": {},
   "outputs": [
    {
     "name": "stdout",
     "output_type": "stream",
     "text": [
      "[0, 1, 2, 3, 'prakhar', '1925', 'thapak']\n"
     ]
    }
   ],
   "source": [
    "arr_=[0,1,2,3]\n",
    "arr__=[\"prakhar\",\"1925\"]\n",
    "arr___=[\"thapak\"]\n",
    "\n",
    "print(list(itertools.chain(arr_,arr__,arr___)))\n"
   ]
  },
  {
   "cell_type": "code",
   "execution_count": 13,
   "metadata": {},
   "outputs": [
    {
     "data": {
      "text/plain": [
       "<generator object <genexpr> at 0x00000285BA224258>"
      ]
     },
     "execution_count": 13,
     "metadata": {},
     "output_type": "execute_result"
    }
   ],
   "source": [
    "#to slice an iterator object use islice instead of converting it to a list\n",
    "new_arr=(i for i in range(40))\n",
    "new_arr"
   ]
  },
  {
   "cell_type": "code",
   "execution_count": 14,
   "metadata": {},
   "outputs": [
    {
     "data": {
      "text/plain": [
       "[0, 5, 10, 15, 20, 25, 30, 35]"
      ]
     },
     "execution_count": 14,
     "metadata": {},
     "output_type": "execute_result"
    }
   ],
   "source": [
    "list(itertools.islice(new_arr,0,40,5))"
   ]
  },
  {
   "cell_type": "code",
   "execution_count": 15,
   "metadata": {},
   "outputs": [
    {
     "data": {
      "text/plain": [
       "[1, 3, 5]"
      ]
     },
     "execution_count": 15,
     "metadata": {},
     "output_type": "execute_result"
    }
   ],
   "source": [
    "arr_one=[True,False,True,False,True]\n",
    "arr_two=[1,2,3,4,5]\n",
    "\n",
    "list(itertools.compress(arr_two,arr_one))"
   ]
  },
  {
   "cell_type": "code",
   "execution_count": 16,
   "metadata": {},
   "outputs": [
    {
     "data": {
      "text/plain": [
       "[1, 3, 5]"
      ]
     },
     "execution_count": 16,
     "metadata": {},
     "output_type": "execute_result"
    }
   ],
   "source": [
    "list(filter(lambda x:x%2!=0,arr_two))"
   ]
  },
  {
   "cell_type": "code",
   "execution_count": 17,
   "metadata": {},
   "outputs": [
    {
     "data": {
      "text/plain": [
       "[2, 4]"
      ]
     },
     "execution_count": 17,
     "metadata": {},
     "output_type": "execute_result"
    }
   ],
   "source": [
    "#negation of filter use filterfalse\n",
    "list(itertools.filterfalse(lambda x:x%2!=0,arr_two))"
   ]
  },
  {
   "cell_type": "markdown",
   "metadata": {},
   "source": [
    "<b>Program that prints all the elements in a array after it finds the first occurence of the number 42</b>"
   ]
  },
  {
   "cell_type": "code",
   "execution_count": 18,
   "metadata": {},
   "outputs": [],
   "source": [
    "import random\n",
    "arr=[random.randrange(0,100) for _ in range(100)]"
   ]
  },
  {
   "cell_type": "code",
   "execution_count": 19,
   "metadata": {},
   "outputs": [
    {
     "name": "stdout",
     "output_type": "stream",
     "text": [
      "[42, 83, 59, 68, 41, 64, 93, 85, 49, 96, 23, 35, 71, 35, 27, 65, 96, 41, 81, 86, 28, 41, 32]\n"
     ]
    }
   ],
   "source": [
    "print(list(itertools.dropwhile(lambda x:x!=42,arr)))"
   ]
  },
  {
   "cell_type": "code",
   "execution_count": 20,
   "metadata": {},
   "outputs": [
    {
     "name": "stdout",
     "output_type": "stream",
     "text": [
      "[90, 72, 37, 16, 46, 95, 9, 67, 44, 37, 79, 95, 36, 90, 93, 66, 84, 97, 74, 71, 83, 17, 62, 45, 18, 32, 36, 50, 98, 10, 1, 33, 95, 26, 6, 40, 65, 4, 20, 38, 84, 88, 26, 60, 34, 79, 69, 78, 92, 90, 63, 54, 76, 60, 49, 75, 95, 41, 76, 43, 91, 56, 91, 34, 41, 88, 67, 84, 44, 36, 70, 56, 89, 86, 64, 23, 77, 42, 83, 59, 68, 41, 64, 93, 85, 49, 96, 23, 35, 71, 35, 27, 65, 96, 41, 81, 86, 28, 41, 32]\n"
     ]
    }
   ],
   "source": [
    "print(arr)"
   ]
  },
  {
   "cell_type": "markdown",
   "metadata": {},
   "source": [
    "<b>Program that prints all the elements in a array before it finds the first occurence of the number 42</b>"
   ]
  },
  {
   "cell_type": "code",
   "execution_count": 21,
   "metadata": {},
   "outputs": [
    {
     "name": "stdout",
     "output_type": "stream",
     "text": [
      "[90, 72, 37, 16, 46, 95, 9, 67, 44, 37, 79, 95, 36, 90, 93, 66, 84, 97, 74, 71, 83, 17, 62, 45, 18, 32, 36, 50, 98, 10, 1, 33, 95, 26, 6, 40, 65, 4, 20, 38, 84, 88, 26, 60, 34, 79, 69, 78, 92, 90, 63, 54, 76, 60, 49, 75, 95, 41, 76, 43, 91, 56, 91, 34, 41, 88, 67, 84, 44, 36, 70, 56, 89, 86, 64, 23, 77]\n"
     ]
    }
   ],
   "source": [
    "print(list(itertools.takewhile(lambda x:x!=42,arr)))"
   ]
  },
  {
   "cell_type": "code",
   "execution_count": 22,
   "metadata": {},
   "outputs": [
    {
     "name": "stdout",
     "output_type": "stream",
     "text": [
      "[0, 1, 3, 6, 10, 15, 21, 28, 36, 45]\n"
     ]
    }
   ],
   "source": [
    "arr=list(range(10))\n",
    "print(list(itertools.accumulate(arr))) #running sum by default"
   ]
  },
  {
   "cell_type": "code",
   "execution_count": 23,
   "metadata": {},
   "outputs": [
    {
     "name": "stdout",
     "output_type": "stream",
     "text": [
      "[ 0  1  3  6 10 15 21 28 36 45]\n"
     ]
    }
   ],
   "source": [
    "#same as cumsum\n",
    "import numpy as np\n",
    "arr_copy=np.array(arr)\n",
    "print(np.cumsum(arr_copy))"
   ]
  },
  {
   "cell_type": "code",
   "execution_count": 24,
   "metadata": {},
   "outputs": [
    {
     "name": "stdout",
     "output_type": "stream",
     "text": [
      "[1, 2, 3, 4]\n",
      "[1, 2, 6, 24]\n",
      "[1, -1, -4, -8]\n"
     ]
    }
   ],
   "source": [
    "#change the default sum to something other\n",
    "import operator\n",
    "arr=list(range(1,5))\n",
    "print(arr)\n",
    "print(list(itertools.accumulate(arr,operator.mul)))\n",
    "print(list(itertools.accumulate(arr,operator.sub)))"
   ]
  },
  {
   "cell_type": "code",
   "execution_count": 25,
   "metadata": {},
   "outputs": [],
   "source": [
    "import requests"
   ]
  },
  {
   "cell_type": "code",
   "execution_count": 26,
   "metadata": {},
   "outputs": [
    {
     "data": {
      "text/plain": [
       "'<!doctype html><html itemscope=\"\" itemtype=\"http://schema.org/WebPage\" lang=\"en-IN\"><head><meta cont'"
      ]
     },
     "execution_count": 26,
     "metadata": {},
     "output_type": "execute_result"
    }
   ],
   "source": [
    "#getting the code\n",
    "r=requests.get(\"https://google.in\")\n",
    "r.text[:100]"
   ]
  },
  {
   "cell_type": "code",
   "execution_count": 27,
   "metadata": {},
   "outputs": [],
   "source": [
    "#downloading an image\n",
    "r=requests.get('https://bit.ly/2XtzHVV')\n",
    "image_in_bytes=r.content\n",
    "with open ('image.png','wb') as f:\n",
    "    f.write(image_in_bytes)"
   ]
  },
  {
   "cell_type": "markdown",
   "metadata": {},
   "source": [
    "<img src=\"image.png\">"
   ]
  },
  {
   "cell_type": "code",
   "execution_count": 28,
   "metadata": {},
   "outputs": [
    {
     "name": "stdout",
     "output_type": "stream",
     "text": [
      "True\n",
      "\n",
      "{'Accept-Ranges': 'bytes', 'Content-Type': 'image/jpeg', 'Access-Control-Allow-Origin': '*', 'Content-Length': '5765', 'Date': 'Thu, 28 Feb 2019 07:55:47 GMT', 'Expires': 'Fri, 28 Feb 2020 07:55:47 GMT', 'Last-Modified': 'Sat, 02 Apr 2016 17:06:33 GMT', 'X-Content-Type-Options': 'nosniff', 'Server': 'sffe', 'X-XSS-Protection': '1; mode=block', 'Cache-Control': 'public, max-age=31536000', 'Age': '6189', 'Alt-Svc': 'quic=\":443\"; ma=2592000; v=\"44,43,39\"'}\n"
     ]
    }
   ],
   "source": [
    "print(r.ok) #tells whether we received a request back from the server or not\n",
    "print()\n",
    "print(r.headers)"
   ]
  },
  {
   "cell_type": "code",
   "execution_count": 29,
   "metadata": {},
   "outputs": [],
   "source": [
    "r=requests.get(\"https://httpbin.org/get\",params={'page':2,'count':10})"
   ]
  },
  {
   "cell_type": "code",
   "execution_count": 30,
   "metadata": {},
   "outputs": [
    {
     "name": "stdout",
     "output_type": "stream",
     "text": [
      "{\n",
      "  \"args\": {\n",
      "    \"count\": \"10\", \n",
      "    \"page\": \"2\"\n",
      "  }, \n",
      "  \"headers\": {\n",
      "    \"Accept\": \"*/*\", \n",
      "    \"Accept-Encoding\": \"gzip, deflate\", \n",
      "    \"Host\": \"httpbin.org\", \n",
      "    \"User-Agent\": \"python-requests/2.21.0\"\n",
      "  }, \n",
      "  \"origin\": \"157.34.125.140, 157.34.125.140\", \n",
      "  \"url\": \"https://httpbin.org/get?page=2&count=10\"\n",
      "}\n",
      "\n",
      "\n",
      "https://httpbin.org/get?page=2&count=10\n"
     ]
    }
   ],
   "source": [
    "print(r.text)\n",
    "print()\n",
    "print(r.url)"
   ]
  },
  {
   "cell_type": "code",
   "execution_count": 31,
   "metadata": {},
   "outputs": [
    {
     "data": {
      "text/plain": [
       "'{\\n  \"authenticated\": true, \\n  \"user\": \"prakhar\"\\n}\\n'"
      ]
     },
     "execution_count": 31,
     "metadata": {},
     "output_type": "execute_result"
    }
   ],
   "source": [
    "#authenticating via requests lib\n",
    "r=requests.get('https://httpbin.org/basic-auth/prakhar/ms',auth=('prakhar','ms'))\n",
    "r.text"
   ]
  },
  {
   "cell_type": "code",
   "execution_count": null,
   "metadata": {},
   "outputs": [],
   "source": []
  }
 ],
 "metadata": {
  "kernelspec": {
   "display_name": "Python 3",
   "language": "python",
   "name": "python3"
  },
  "language_info": {
   "codemirror_mode": {
    "name": "ipython",
    "version": 3
   },
   "file_extension": ".py",
   "mimetype": "text/x-python",
   "name": "python",
   "nbconvert_exporter": "python",
   "pygments_lexer": "ipython3",
   "version": "3.6.4"
  },
  "toc": {
   "base_numbering": 1,
   "nav_menu": {},
   "number_sections": true,
   "sideBar": true,
   "skip_h1_title": false,
   "title_cell": "Table of Contents",
   "title_sidebar": "Contents",
   "toc_cell": false,
   "toc_position": {},
   "toc_section_display": true,
   "toc_window_display": false
  }
 },
 "nbformat": 4,
 "nbformat_minor": 2
}
