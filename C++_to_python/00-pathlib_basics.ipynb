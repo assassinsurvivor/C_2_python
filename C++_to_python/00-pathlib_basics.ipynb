{
 "cells": [
  {
   "cell_type": "code",
   "execution_count": null,
   "metadata": {},
   "outputs": [],
   "source": [
    "from pathlib import Path"
   ]
  },
  {
   "cell_type": "code",
   "execution_count": 2,
   "metadata": {},
   "outputs": [
    {
     "data": {
      "text/plain": [
       "WindowsPath('C:/Users/demongking28/Desktop/pytorch_basics')"
      ]
     },
     "execution_count": 2,
     "metadata": {},
     "output_type": "execute_result"
    }
   ],
   "source": [
    "#get the path of the cwd\n",
    "Path.cwd()"
   ]
  },
  {
   "cell_type": "code",
   "execution_count": 3,
   "metadata": {},
   "outputs": [
    {
     "data": {
      "text/plain": [
       "WindowsPath('C:/Users/demongking28')"
      ]
     },
     "execution_count": 3,
     "metadata": {},
     "output_type": "execute_result"
    }
   ],
   "source": [
    "#get the path of the home directory of the user\n",
    "Path.home()"
   ]
  },
  {
   "cell_type": "code",
   "execution_count": 4,
   "metadata": {},
   "outputs": [
    {
     "data": {
      "text/plain": [
       "WindowsPath('C:/Users/demongking28/desktop/pytorch_basics')"
      ]
     },
     "execution_count": 4,
     "metadata": {},
     "output_type": "execute_result"
    }
   ],
   "source": [
    "#Joining path --just use forward slash \n",
    "\n",
    "Path.home()/\"desktop\"/\"pytorch_basics\""
   ]
  },
  {
   "cell_type": "code",
   "execution_count": 5,
   "metadata": {},
   "outputs": [
    {
     "data": {
      "text/plain": [
       "WindowsPath('C:/Users/demongking28/desktop/pytorch_basics')"
      ]
     },
     "execution_count": 5,
     "metadata": {},
     "output_type": "execute_result"
    }
   ],
   "source": [
    "#alternate way\n",
    "\n",
    "Path.home().joinpath('desktop','pytorch_basics')"
   ]
  },
  {
   "cell_type": "code",
   "execution_count": 6,
   "metadata": {},
   "outputs": [
    {
     "data": {
      "text/plain": [
       "'## Dependencies\\n\\n* **An internet connection.**\\n* python (>= 3.5)\\n* traitlets==4.3.2\\n* matplotlib==2.2.2\\n* psycopg2==2.7.5\\n* sympy==1.3\\n* pandas==0.23.4 \\n* numpy==1.15.4\\n* seaborn==0.9.0\\n* lightgbm==2.2.1 \\n* scipy==1.1.0\\n* sklearn\\n* plotly==2.5.1\\n* jupyter==1.0.0\\n* jupyter_contrib_nbextensions==0.5.0\\n* jupyter_nbextensions_configurator==0.4.0\\n* featuretools==0.4.0\\n* eli5==0.8.1\\n* natsort==5.5.0\\n* ipywidgets==7.4.2\\n* xgboost==0.80\\n* hyperopt==0.1.1\\n* six==1.11.0\\n* jinja2==2.10\\n* shap==0.25.2\\n* pdpbox==0.2.0\\n* knnimpute==0.1.0\\n* imbalanced-learn==0.4.3\\n* statsmodels==0.9.0\\n* patsy==0.5.0\\n* category_encoders==1.3.0\\n'"
      ]
     },
     "execution_count": 6,
     "metadata": {},
     "output_type": "execute_result"
    }
   ],
   "source": [
    "#open file using pathlib\n",
    "\n",
    "filer=Path.home().joinpath('desktop','ppo','readme.md')\n",
    "filer.read_text()\n",
    "\n",
    "#can also use read_bytes,write_bytes,write_text"
   ]
  },
  {
   "cell_type": "code",
   "execution_count": 7,
   "metadata": {},
   "outputs": [
    {
     "data": {
      "text/plain": [
       "WindowsPath('C:/data')"
      ]
     },
     "execution_count": 7,
     "metadata": {},
     "output_type": "execute_result"
    }
   ],
   "source": [
    "path=Path('/data')\n",
    "path.resolve()"
   ]
  },
  {
   "cell_type": "code",
   "execution_count": 9,
   "metadata": {},
   "outputs": [
    {
     "name": "stdout",
     "output_type": "stream",
     "text": [
      "C:\\Users\\demongking28\\desktop\n",
      "examples.md\n",
      "examples\n",
      ".md\n",
      "C:\\\n"
     ]
    }
   ],
   "source": [
    "#some functionalities\n",
    "\n",
    "path=Path.home().joinpath('desktop','examples.md')\n",
    "print(path.parent)\n",
    "print(path.name)\n",
    "print(path.stem)\n",
    "print(path.suffix)\n",
    "print(path.anchor)# \"\\\" for windows and \"/\" for liux\n",
    "\n",
    "#to make the file and directory\n",
    "\n",
    "path.mkdir(exist_ok=True)"
   ]
  },
  {
   "cell_type": "code",
   "execution_count": 10,
   "metadata": {},
   "outputs": [
    {
     "data": {
      "text/plain": [
       "Counter({'.docx': 1, '.epub': 2, '.pdf': 51})"
      ]
     },
     "execution_count": 10,
     "metadata": {},
     "output_type": "execute_result"
    }
   ],
   "source": [
    "#counting files\n",
    "from collections import Counter\n",
    "Counter(i.suffix for i in Path.home().joinpath('downloads','documents').iterdir() )"
   ]
  },
  {
   "cell_type": "code",
   "execution_count": 11,
   "metadata": {},
   "outputs": [
    {
     "name": "stdout",
     "output_type": "stream",
     "text": [
      "(1546724238.457037, WindowsPath('C:/Users/demongking28/downloads/documents/med.pdf'))\n"
     ]
    }
   ],
   "source": [
    "#find the last modified file\n",
    "path=Path.home().joinpath('downloads','documents')\n",
    "print(max([(i.stat().st_mtime,i) for i in path.iterdir()]))\n"
   ]
  },
  {
   "cell_type": "code",
   "execution_count": 12,
   "metadata": {},
   "outputs": [
    {
     "data": {
      "text/plain": [
       "datetime.datetime(2019, 1, 6, 3, 7, 18, 457037)"
      ]
     },
     "execution_count": 12,
     "metadata": {},
     "output_type": "execute_result"
    }
   ],
   "source": [
    "from datetime import datetime\n",
    "datetime.fromtimestamp(max([(i.stat().st_mtime,i) for i in path.iterdir()])[0])"
   ]
  },
  {
   "cell_type": "code",
   "execution_count": 13,
   "metadata": {},
   "outputs": [
    {
     "data": {
      "text/plain": [
       "'C:\\\\Users\\\\demongking28\\\\downloads\\\\documents'"
      ]
     },
     "execution_count": 13,
     "metadata": {},
     "output_type": "execute_result"
    }
   ],
   "source": [
    "import os\n",
    "os.fspath(path) #coverts path object to string"
   ]
  },
  {
   "cell_type": "code",
   "execution_count": 14,
   "metadata": {},
   "outputs": [
    {
     "data": {
      "text/plain": [
       "('downloads', 'documents')"
      ]
     },
     "execution_count": 14,
     "metadata": {},
     "output_type": "execute_result"
    }
   ],
   "source": [
    "#distance between paths\n",
    "\n",
    "path1=path\n",
    "path2=Path.home()\n",
    "path1.relative_to(path2).parts"
   ]
  },
  {
   "cell_type": "code",
   "execution_count": 15,
   "metadata": {},
   "outputs": [],
   "source": [
    "#displaying entire directory and subdirs\n",
    "\n",
    "\n",
    "def display(directory):\n",
    "    \n",
    "    print(f'+ {directory}')\n",
    "    \n",
    "    for i in sorted(directory.rglob('*')):\n",
    "        diff= len(i.relative_to(directory).parts) *' '\n",
    "        print(f'{diff}+ {i.name}')"
   ]
  },
  {
   "cell_type": "code",
   "execution_count": 16,
   "metadata": {},
   "outputs": [
    {
     "name": "stdout",
     "output_type": "stream",
     "text": [
      "+ C:\\Users\\demongking28\\desktop\\ppo\\patient-centricity\\drivers_analysis_final\\impute\n",
      " + build\n",
      "  + lib\n",
      "   + fancyimpute\n",
      "    + __init__.py\n",
      "    + common.py\n",
      "    + dictionary_helpers.py\n",
      "    + iterative_imputer.py\n",
      "    + knn.py\n",
      "    + scaler.py\n",
      "    + solver.py\n",
      " + dist\n",
      "  + fancyimpute-1.1-py3.6.egg\n",
      " + fancyimpute\n",
      "  + __init__.py\n",
      "  + common.py\n",
      "  + dictionary_helpers.py\n",
      "  + iterative_imputer.py\n",
      "  + knn.py\n",
      "  + scaler.py\n",
      "  + solver.py\n",
      " + fancyimpute.egg-info\n",
      "  + dependency_links.txt\n",
      "  + PKG-INFO\n",
      "  + requires.txt\n",
      "  + SOURCES.txt\n",
      "  + top_level.txt\n",
      " + README.md\n",
      " + requirements.txt\n",
      " + setup.py\n"
     ]
    }
   ],
   "source": [
    "display(path2.joinpath('desktop','ppo','patient-centricity','drivers_analysis_final','impute'))"
   ]
  }
 ],
 "metadata": {
  "kernelspec": {
   "display_name": "Python 3",
   "language": "python",
   "name": "python3"
  },
  "language_info": {
   "codemirror_mode": {
    "name": "ipython",
    "version": 3
   },
   "file_extension": ".py",
   "mimetype": "text/x-python",
   "name": "python",
   "nbconvert_exporter": "python",
   "pygments_lexer": "ipython3",
   "version": "3.6.4"
  },
  "toc": {
   "base_numbering": 1,
   "nav_menu": {},
   "number_sections": true,
   "sideBar": true,
   "skip_h1_title": false,
   "title_cell": "Table of Contents",
   "title_sidebar": "Contents",
   "toc_cell": false,
   "toc_position": {},
   "toc_section_display": true,
   "toc_window_display": false
  }
 },
 "nbformat": 4,
 "nbformat_minor": 2
}
