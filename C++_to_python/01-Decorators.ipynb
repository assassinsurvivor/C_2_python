{
 "cells": [
  {
   "cell_type": "code",
   "execution_count": 1,
   "metadata": {},
   "outputs": [],
   "source": [
    "from IPython.display import display,HTML"
   ]
  },
  {
   "cell_type": "code",
   "execution_count": 2,
   "metadata": {},
   "outputs": [
    {
     "name": "stdout",
     "output_type": "stream",
     "text": [
      "My name is: Prakhar\n"
     ]
    }
   ],
   "source": [
    "#simple example of a decorator\n",
    "def name(args):\n",
    "    print(\"My name is:\",end=\" \")\n",
    "    print(args())\n",
    "    return (\"My name is: {}\".format(args()))\n",
    "\n",
    "@name\n",
    "def surname():   # this is equivalent to surname=name(surname)\n",
    "    return (\"Prakhar\")"
   ]
  },
  {
   "cell_type": "code",
   "execution_count": 3,
   "metadata": {},
   "outputs": [
    {
     "data": {
      "text/plain": [
       "'My name is: Prakhar'"
      ]
     },
     "execution_count": 3,
     "metadata": {},
     "output_type": "execute_result"
    }
   ],
   "source": [
    "surname"
   ]
  },
  {
   "cell_type": "code",
   "execution_count": 4,
   "metadata": {},
   "outputs": [],
   "source": [
    "#Decorators with arguments -->just pass (*args,**kwargs)\n",
    "def wrapper(var):\n",
    "    temp= \"Name: Prakhar\"\n",
    "    def inner_wrap(*args,**kwargs):\n",
    "        return (temp+\" & \"+var(*args, **kwargs))\n",
    "    return inner_wrap\n",
    "\n",
    "@wrapper\n",
    "def call_one(): #equivalent to call_one=wrapper(call_one)\n",
    "    return(\"Occupation: Research Engineer\")\n",
    "\n",
    "@wrapper\n",
    "def call_two(val):\n",
    "    return(\"Scripting Language:{}\".format(val))\n",
    "    \n",
    "\n"
   ]
  },
  {
   "cell_type": "code",
   "execution_count": 5,
   "metadata": {},
   "outputs": [
    {
     "data": {
      "text/html": [
       "<b>Name: Prakhar & Occupation: Research Engineer</b><hr>"
      ],
      "text/plain": [
       "<IPython.core.display.HTML object>"
      ]
     },
     "metadata": {},
     "output_type": "display_data"
    },
    {
     "data": {
      "text/html": [
       "<b>Name: Prakhar & Scripting Language:python</b><hr>"
      ],
      "text/plain": [
       "<IPython.core.display.HTML object>"
      ]
     },
     "metadata": {},
     "output_type": "display_data"
    }
   ],
   "source": [
    "#results \n",
    "display(HTML(\"<b>{}</b><hr>\".format((call_one()))))\n",
    "display(HTML(\"<b>{}</b><hr>\".format((call_two('python')))))"
   ]
  },
  {
   "cell_type": "code",
   "execution_count": 6,
   "metadata": {},
   "outputs": [
    {
     "data": {
      "text/plain": [
       "<function __main__.wrapper.<locals>.inner_wrap>"
      ]
     },
     "execution_count": 6,
     "metadata": {},
     "output_type": "execute_result"
    }
   ],
   "source": [
    "call_one #as we can see the identity of the function is not preserved"
   ]
  },
  {
   "cell_type": "code",
   "execution_count": 7,
   "metadata": {},
   "outputs": [],
   "source": [
    "#to keep the identity preserved we should use functools\n",
    "\n",
    "import functools\n",
    "\n",
    "def wrapper(var):\n",
    "    temp= \"Name: Prakhar\"\n",
    "    @functools.wraps(var)\n",
    "    def inner_wrap(*args,**kwargs):\n",
    "        return (temp+\" & \"+var(*args, **kwargs))\n",
    "    return inner_wrap\n",
    "\n",
    "@wrapper\n",
    "def call_one(): #equivalent to call_one=wrapper(call_one)\n",
    "    return(\"Occupation: Research Engineer\")\n",
    "\n",
    "@wrapper\n",
    "def call_two(val):\n",
    "    return(\"Scripting Language:{}\".format(val))\n",
    "    \n"
   ]
  },
  {
   "cell_type": "code",
   "execution_count": 8,
   "metadata": {},
   "outputs": [
    {
     "data": {
      "text/html": [
       "<b>Name: Prakhar & Occupation: Research Engineer</b><hr>"
      ],
      "text/plain": [
       "<IPython.core.display.HTML object>"
      ]
     },
     "metadata": {},
     "output_type": "display_data"
    },
    {
     "data": {
      "text/html": [
       "<b>Name: Prakhar & Scripting Language:python</b><hr>"
      ],
      "text/plain": [
       "<IPython.core.display.HTML object>"
      ]
     },
     "metadata": {},
     "output_type": "display_data"
    }
   ],
   "source": [
    "#results \n",
    "display(HTML(\"<b>{}</b><hr>\".format((call_one()))))\n",
    "display(HTML(\"<b>{}</b><hr>\".format((call_two('python')))))"
   ]
  },
  {
   "cell_type": "code",
   "execution_count": 9,
   "metadata": {},
   "outputs": [
    {
     "data": {
      "text/plain": [
       "<function __main__.call_one>"
      ]
     },
     "execution_count": 9,
     "metadata": {},
     "output_type": "execute_result"
    }
   ],
   "source": [
    "call_one"
   ]
  },
  {
   "cell_type": "code",
   "execution_count": 10,
   "metadata": {},
   "outputs": [
    {
     "data": {
      "text/plain": [
       "<function __main__.call_two>"
      ]
     },
     "execution_count": 10,
     "metadata": {},
     "output_type": "execute_result"
    }
   ],
   "source": [
    "call_two"
   ]
  },
  {
   "cell_type": "code",
   "execution_count": null,
   "metadata": {},
   "outputs": [],
   "source": []
  }
 ],
 "metadata": {
  "kernelspec": {
   "display_name": "Python 3",
   "language": "python",
   "name": "python3"
  },
  "language_info": {
   "codemirror_mode": {
    "name": "ipython",
    "version": 3
   },
   "file_extension": ".py",
   "mimetype": "text/x-python",
   "name": "python",
   "nbconvert_exporter": "python",
   "pygments_lexer": "ipython3",
   "version": "3.6.4"
  },
  "toc": {
   "base_numbering": 1,
   "nav_menu": {},
   "number_sections": true,
   "sideBar": true,
   "skip_h1_title": false,
   "title_cell": "Table of Contents",
   "title_sidebar": "Contents",
   "toc_cell": false,
   "toc_position": {},
   "toc_section_display": true,
   "toc_window_display": false
  }
 },
 "nbformat": 4,
 "nbformat_minor": 2
}
